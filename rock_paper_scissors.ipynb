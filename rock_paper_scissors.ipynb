{
  "nbformat": 4,
  "nbformat_minor": 0,
  "metadata": {
    "colab": {
      "name": "rock-paper-scissors.ipynb",
      "provenance": [],
      "collapsed_sections": [],
      "authorship_tag": "ABX9TyNr8agTUGB+/LYl8Fp8c42J",
      "include_colab_link": true
    },
    "kernelspec": {
      "name": "python3",
      "display_name": "Python 3"
    },
    "language_info": {
      "name": "python"
    }
  },
  "cells": [
    {
      "cell_type": "markdown",
      "metadata": {
        "id": "view-in-github",
        "colab_type": "text"
      },
      "source": [
        "<a href=\"https://colab.research.google.com/github/vishal-pandey/rock-paper-scissor-dataset/blob/master/rock_paper_scissors.ipynb\" target=\"_parent\"><img src=\"https://colab.research.google.com/assets/colab-badge.svg\" alt=\"Open In Colab\"/></a>"
      ]
    },
    {
      "cell_type": "code",
      "execution_count": null,
      "metadata": {
        "colab": {
          "base_uri": "https://localhost:8080/"
        },
        "id": "VRZBa7JZ2jfZ",
        "outputId": "0feb627d-b1e9-4e64-f36a-3edbe6d684cc"
      },
      "outputs": [
        {
          "output_type": "stream",
          "name": "stdout",
          "text": [
            "Cloning into 'rock-paper-scissor-dataset'...\n",
            "remote: Enumerating objects: 10223, done.\u001b[K\n",
            "remote: Counting objects: 100% (2244/2244), done.\u001b[K\n",
            "remote: Compressing objects: 100% (2231/2231), done.\u001b[K\n",
            "remote: Total 10223 (delta 15), reused 2239 (delta 11), pack-reused 7979\u001b[K\n",
            "Receiving objects: 100% (10223/10223), 755.80 MiB | 27.18 MiB/s, done.\n",
            "Resolving deltas: 100% (16/16), done.\n",
            "Checking out files: 100% (16479/16479), done.\n"
          ]
        }
      ],
      "source": [
        "# Download data from github\n",
        "!git clone https://github.com/vishal-pandey/rock-paper-scissor-dataset.git"
      ]
    },
    {
      "cell_type": "code",
      "source": [
        "directory = \"/content/rock-paper-scissor-dataset/data/\""
      ],
      "metadata": {
        "id": "4FO-2w7o3MBj"
      },
      "execution_count": null,
      "outputs": []
    },
    {
      "cell_type": "code",
      "source": [
        "dir_rock = \"/content/rock-paper-scissor-dataset/rock/\"\n",
        "dir_paper = \"/content/rock-paper-scissor-dataset/paper/\"\n",
        "dir_scissors = \"/content/rock-paper-scissor-dataset/scissors/\""
      ],
      "metadata": {
        "id": "v4nlK8WOWJ3-"
      },
      "execution_count": null,
      "outputs": []
    },
    {
      "cell_type": "code",
      "source": [
        ""
      ],
      "metadata": {
        "id": "NgQv043tWJv4"
      },
      "execution_count": null,
      "outputs": []
    },
    {
      "cell_type": "code",
      "source": [
        "import pandas as pd\n",
        "import json\n",
        "\n",
        "import numpy as np\n",
        "from os.path import isfile, join\n",
        "from os import listdir"
      ],
      "metadata": {
        "id": "hULr9VFX32lx"
      },
      "execution_count": null,
      "outputs": []
    },
    {
      "cell_type": "code",
      "source": [
        "files_rock = [f for f in listdir(dir_rock) if isfile(join(dir_rock, f))]\n",
        "files_paper = [f for f in listdir(dir_paper) if isfile(join(dir_paper, f))]\n",
        "files_scissors = [f for f in listdir(dir_scissors) if isfile(join(dir_scissors, f))]\n"
      ],
      "metadata": {
        "id": "UtW5C5g_4JGv"
      },
      "execution_count": null,
      "outputs": []
    },
    {
      "cell_type": "code",
      "source": [
        "!pip install mediapipe"
      ],
      "metadata": {
        "colab": {
          "base_uri": "https://localhost:8080/"
        },
        "id": "f9iBzNzYFWKb",
        "outputId": "6f5446d4-d554-4028-f5cb-12cdab562718"
      },
      "execution_count": null,
      "outputs": [
        {
          "output_type": "stream",
          "name": "stdout",
          "text": [
            "Looking in indexes: https://pypi.org/simple, https://us-python.pkg.dev/colab-wheels/public/simple/\n",
            "Collecting mediapipe\n",
            "  Downloading mediapipe-0.8.10-cp37-cp37m-manylinux_2_17_x86_64.manylinux2014_x86_64.whl (32.8 MB)\n",
            "\u001b[K     |████████████████████████████████| 32.8 MB 389 kB/s \n",
            "\u001b[?25hRequirement already satisfied: absl-py in /usr/local/lib/python3.7/dist-packages (from mediapipe) (1.1.0)\n",
            "Requirement already satisfied: attrs>=19.1.0 in /usr/local/lib/python3.7/dist-packages (from mediapipe) (21.4.0)\n",
            "Requirement already satisfied: numpy in /usr/local/lib/python3.7/dist-packages (from mediapipe) (1.21.6)\n",
            "Requirement already satisfied: opencv-contrib-python in /usr/local/lib/python3.7/dist-packages (from mediapipe) (4.1.2.30)\n",
            "Requirement already satisfied: matplotlib in /usr/local/lib/python3.7/dist-packages (from mediapipe) (3.2.2)\n",
            "Requirement already satisfied: protobuf>=3.11.4 in /usr/local/lib/python3.7/dist-packages (from mediapipe) (3.17.3)\n",
            "Requirement already satisfied: six>=1.9 in /usr/local/lib/python3.7/dist-packages (from protobuf>=3.11.4->mediapipe) (1.15.0)\n",
            "Requirement already satisfied: cycler>=0.10 in /usr/local/lib/python3.7/dist-packages (from matplotlib->mediapipe) (0.11.0)\n",
            "Requirement already satisfied: pyparsing!=2.0.4,!=2.1.2,!=2.1.6,>=2.0.1 in /usr/local/lib/python3.7/dist-packages (from matplotlib->mediapipe) (3.0.9)\n",
            "Requirement already satisfied: python-dateutil>=2.1 in /usr/local/lib/python3.7/dist-packages (from matplotlib->mediapipe) (2.8.2)\n",
            "Requirement already satisfied: kiwisolver>=1.0.1 in /usr/local/lib/python3.7/dist-packages (from matplotlib->mediapipe) (1.4.3)\n",
            "Requirement already satisfied: typing-extensions in /usr/local/lib/python3.7/dist-packages (from kiwisolver>=1.0.1->matplotlib->mediapipe) (4.1.1)\n",
            "Installing collected packages: mediapipe\n",
            "Successfully installed mediapipe-0.8.10\n"
          ]
        }
      ]
    },
    {
      "cell_type": "code",
      "source": [
        "import cv2\n",
        "import mediapipe as mp\n",
        "mp_drawing = mp.solutions.drawing_utils\n",
        "mp_drawing_styles = mp.solutions.drawing_styles\n",
        "mp_hands = mp.solutions.hands"
      ],
      "metadata": {
        "id": "x5bS6qKBApO2"
      },
      "execution_count": null,
      "outputs": []
    },
    {
      "cell_type": "code",
      "source": [
        "X = []\n",
        "y = []\n",
        "\n",
        "hands = mp_hands.Hands(\n",
        "    static_image_mode=True,\n",
        "    max_num_hands=2,\n",
        "    min_detection_confidence=0.5)"
      ],
      "metadata": {
        "id": "oHvp5dNMdqbr"
      },
      "execution_count": null,
      "outputs": []
    },
    {
      "cell_type": "code",
      "source": [
        "\n",
        "\n",
        "for i in files_rock:\n",
        "  file = dir_rock+i\n",
        "  image = cv2.imread(file)\n",
        "\n",
        "  results = hands.process(cv2.cvtColor(image, cv2.COLOR_BGR2RGB))\n",
        "  # print(i)\n",
        "  dd = []\n",
        "  landmarks = results.multi_hand_world_landmarks or []\n",
        "  if(results and len(landmarks) == 0):\n",
        "    continue\n",
        "  for j in range(len(landmarks[0].landmark)):\n",
        "    dd.append(landmarks[0].landmark[j].x)\n",
        "    dd.append(landmarks[0].landmark[j].y)\n",
        "    dd.append(landmarks[0].landmark[j].z)\n",
        "\n",
        "  X.append(dd)\n",
        "  y.append(0)\n",
        "\n",
        "  print(len(y))\n",
        "  "
      ],
      "metadata": {
        "id": "6eyUKEFN9ErV"
      },
      "execution_count": null,
      "outputs": []
    },
    {
      "cell_type": "code",
      "source": [
        "\n",
        "\n",
        "for i in files_paper:\n",
        "  file = dir_paper+i\n",
        "  image = cv2.imread(file)\n",
        "\n",
        "  results = hands.process(cv2.cvtColor(image, cv2.COLOR_BGR2RGB))\n",
        "  # print(i)\n",
        "  dd = []\n",
        "  landmarks = results.multi_hand_world_landmarks or []\n",
        "  if(results and len(landmarks) == 0):\n",
        "    continue\n",
        "  for j in range(len(landmarks[0].landmark)):\n",
        "    dd.append(landmarks[0].landmark[j].x)\n",
        "    dd.append(landmarks[0].landmark[j].y)\n",
        "    dd.append(landmarks[0].landmark[j].z)\n",
        "\n",
        "  X.append(dd)\n",
        "  y.append(1)\n",
        "\n",
        "  print(len(y))\n",
        "  "
      ],
      "metadata": {
        "id": "hEKkHw_W4PNi"
      },
      "execution_count": null,
      "outputs": []
    },
    {
      "cell_type": "code",
      "source": [
        "\n",
        "\n",
        "for i in files_scissors:\n",
        "  file = dir_scissors+i\n",
        "  image = cv2.imread(file)\n",
        "\n",
        "  results = hands.process(cv2.cvtColor(image, cv2.COLOR_BGR2RGB))\n",
        "  # print(i)\n",
        "  dd = []\n",
        "  landmarks = results.multi_hand_world_landmarks or []\n",
        "  if(results and len(landmarks) == 0):\n",
        "    continue\n",
        "  for j in range(len(landmarks[0].landmark)):\n",
        "    dd.append(landmarks[0].landmark[j].x)\n",
        "    dd.append(landmarks[0].landmark[j].y)\n",
        "    dd.append(landmarks[0].landmark[j].z)\n",
        "\n",
        "  X.append(dd)\n",
        "  y.append(2)\n",
        "\n",
        "  print(len(y))\n",
        "  "
      ],
      "metadata": {
        "id": "V9yhbchLIfuP"
      },
      "execution_count": null,
      "outputs": []
    },
    {
      "cell_type": "code",
      "source": [
        "import json"
      ],
      "metadata": {
        "id": "D52_JwbOZ74F"
      },
      "execution_count": null,
      "outputs": []
    },
    {
      "cell_type": "code",
      "source": [
        "json_X = json.dumps(X, indent = 4)\n",
        "json_y = json.dumps(y, indent = 4)\n",
        "  \n",
        "\n",
        "with open(directory+\"X.json\", \"w\") as outfile:\n",
        "    outfile.write(json_X)\n",
        "\n",
        "with open(directory+\"y.json\", \"w\") as outfile:\n",
        "    outfile.write(json_y)\n",
        "\n"
      ],
      "metadata": {
        "id": "0Owq0Av7Lo6J"
      },
      "execution_count": null,
      "outputs": []
    },
    {
      "cell_type": "code",
      "source": [
        "X = json.load(open(directory+\"X.json\", \"r\"))\n",
        "y = json.load(open(directory+\"y.json\", \"r\"))"
      ],
      "metadata": {
        "id": "UMehMzNiZ6af"
      },
      "execution_count": null,
      "outputs": []
    },
    {
      "cell_type": "code",
      "source": [
        "# f_rock = open(directory+\"rock.json\")\n",
        "# f_paper = open(directory+\"paper.json\")\n",
        "# f_scissors = open(directory+\"scissors.json\")\n",
        "\n",
        "# data_rock = json.load(f_rock)\n",
        "# data_paper = json.load(f_paper)\n",
        "# data_scissors = json.load(f_scissors)\n",
        "\n",
        "# f_rock.close()\n",
        "# f_paper.close()\n",
        "# f_scissors.close()"
      ],
      "metadata": {
        "id": "f_T-pHV25cCZ"
      },
      "execution_count": null,
      "outputs": []
    },
    {
      "cell_type": "code",
      "source": [
        ""
      ],
      "metadata": {
        "id": "GpuT3MABDruf"
      },
      "execution_count": null,
      "outputs": []
    },
    {
      "cell_type": "code",
      "source": [
        "# data_rock"
      ],
      "metadata": {
        "id": "66IqrJYKDQQe"
      },
      "execution_count": null,
      "outputs": []
    },
    {
      "cell_type": "code",
      "source": [
        "# data_rock = np.array(data_rock, dtype=object)\n",
        "# data_paper = np.array(data_paper, dtype=object)\n",
        "# data_scissors = np.array(data_scissors, dtype=object)"
      ],
      "metadata": {
        "id": "Pb1FXAPo6erz"
      },
      "execution_count": null,
      "outputs": []
    },
    {
      "cell_type": "code",
      "source": [
        "# data_rock = np.array([i for i in data_rock if i])\n",
        "# data_paper = np.array([i for i in data_paper if i])\n",
        "# data_scissors = np.array([i for i in data_scissors if i])"
      ],
      "metadata": {
        "id": "6oDQTqqpEBxm"
      },
      "execution_count": null,
      "outputs": []
    },
    {
      "cell_type": "code",
      "source": [
        "# data_rock = data_rock[:, :, :3]\n",
        "# data_paper = data_paper[:, :, :3]\n",
        "# data_scissors = data_scissors[:, :, :3]"
      ],
      "metadata": {
        "id": "-00X6puG7VP9"
      },
      "execution_count": null,
      "outputs": []
    },
    {
      "cell_type": "code",
      "source": [
        "# data_rock = data_rock.reshape(data_rock.shape[0], data_rock.shape[1] * data_rock.shape[2])\n",
        "# data_paper = data_paper.reshape(data_paper.shape[0], data_paper.shape[1] * data_paper.shape[2])\n",
        "# data_scissors = data_scissors.reshape(data_scissors.shape[0], data_scissors.shape[1] * data_scissors.shape[2])"
      ],
      "metadata": {
        "id": "32GVjfOh7YCR"
      },
      "execution_count": null,
      "outputs": []
    },
    {
      "cell_type": "code",
      "source": [
        "# data_scissors.shape"
      ],
      "metadata": {
        "id": "7RC9JkcG7gdh"
      },
      "execution_count": null,
      "outputs": []
    },
    {
      "cell_type": "code",
      "source": [
        "# data_rock.shape[0]"
      ],
      "metadata": {
        "id": "TC0UiIRvGb00"
      },
      "execution_count": null,
      "outputs": []
    },
    {
      "cell_type": "code",
      "source": [
        "# y_rock = np.full((data_rock.shape[0],), 0)\n",
        "# y_paper = np.full((data_paper.shape[0],), 1)\n",
        "# y_scissors = np.full((data_scissors.shape[0],), 2)"
      ],
      "metadata": {
        "id": "N5pRTibbIjm0"
      },
      "execution_count": null,
      "outputs": []
    },
    {
      "cell_type": "code",
      "source": [
        "# X = np.concatenate((data_rock, data_paper, data_scissors))"
      ],
      "metadata": {
        "id": "5tty7PUrK6-9"
      },
      "execution_count": null,
      "outputs": []
    },
    {
      "cell_type": "code",
      "source": [
        "# y = np.concatenate((y_rock, y_paper, y_scissors))"
      ],
      "metadata": {
        "id": "7kRCa7RjJgi4"
      },
      "execution_count": null,
      "outputs": []
    },
    {
      "cell_type": "code",
      "source": [
        "# from sklearn.preprocessing import StandardScaler\n",
        "# X = StandardScaler().fit_transform(X)"
      ],
      "metadata": {
        "id": "_NBDJjrVWyAh"
      },
      "execution_count": null,
      "outputs": []
    },
    {
      "cell_type": "code",
      "source": [
        "X = np.array(X)\n",
        "y = np.array(y)"
      ],
      "metadata": {
        "id": "yg8DnSU6KKe6"
      },
      "execution_count": null,
      "outputs": []
    },
    {
      "cell_type": "code",
      "source": [
        "y.shape"
      ],
      "metadata": {
        "colab": {
          "base_uri": "https://localhost:8080/"
        },
        "id": "SG4Zc_OcKwuq",
        "outputId": "6de364de-f80c-4b03-faa1-4e75da20ab76"
      },
      "execution_count": null,
      "outputs": [
        {
          "output_type": "execute_result",
          "data": {
            "text/plain": [
              "(15443,)"
            ]
          },
          "metadata": {},
          "execution_count": 13
        }
      ]
    },
    {
      "cell_type": "code",
      "source": [
        "X.shape"
      ],
      "metadata": {
        "colab": {
          "base_uri": "https://localhost:8080/"
        },
        "id": "t8UXTKgbX5dS",
        "outputId": "79b29ccc-34f5-4fb2-e673-9090da2b717e"
      },
      "execution_count": null,
      "outputs": [
        {
          "output_type": "execute_result",
          "data": {
            "text/plain": [
              "(15443, 63)"
            ]
          },
          "metadata": {},
          "execution_count": 14
        }
      ]
    },
    {
      "cell_type": "code",
      "source": [
        "from sklearn.model_selection import train_test_split"
      ],
      "metadata": {
        "id": "0ijPMfpBLE7X"
      },
      "execution_count": null,
      "outputs": []
    },
    {
      "cell_type": "code",
      "source": [
        "# X_train, X_test, y_train, y_test = train_test_split(X, y)\n",
        "\n",
        "X_train, X_test, y_train, y_test = train_test_split(X, y, test_size=0.2, random_state=1)\n",
        "\n",
        "X_train, X_val, y_train, y_val = train_test_split(X_train, y_train, test_size=0.25, random_state=1)"
      ],
      "metadata": {
        "id": "0NXsr2tdS1Di"
      },
      "execution_count": null,
      "outputs": []
    },
    {
      "cell_type": "code",
      "source": [
        "X_train.shape"
      ],
      "metadata": {
        "colab": {
          "base_uri": "https://localhost:8080/"
        },
        "id": "V0zTj6ZxS4N_",
        "outputId": "ae701281-2aeb-4848-cfae-97a9d013436f"
      },
      "execution_count": null,
      "outputs": [
        {
          "output_type": "execute_result",
          "data": {
            "text/plain": [
              "(9265, 63)"
            ]
          },
          "metadata": {},
          "execution_count": 17
        }
      ]
    },
    {
      "cell_type": "code",
      "source": [
        "from sklearn.linear_model import LogisticRegression\n",
        "log_reg = LogisticRegression()\n",
        "log_reg.fit(X_train, y_train)"
      ],
      "metadata": {
        "colab": {
          "base_uri": "https://localhost:8080/"
        },
        "id": "PLcw-3w0S55_",
        "outputId": "ad1800ee-c9b6-4508-9196-9b04201813b2"
      },
      "execution_count": null,
      "outputs": [
        {
          "output_type": "execute_result",
          "data": {
            "text/plain": [
              "LogisticRegression()"
            ]
          },
          "metadata": {},
          "execution_count": 18
        }
      ]
    },
    {
      "cell_type": "code",
      "source": [
        "log_reg.score(X, y)"
      ],
      "metadata": {
        "colab": {
          "base_uri": "https://localhost:8080/"
        },
        "id": "C1AOhGGzS9_0",
        "outputId": "c5dd77b8-c857-490e-b039-061a3e0d2458"
      },
      "execution_count": null,
      "outputs": [
        {
          "output_type": "execute_result",
          "data": {
            "text/plain": [
              "0.9901573528459496"
            ]
          },
          "metadata": {},
          "execution_count": 19
        }
      ]
    },
    {
      "cell_type": "code",
      "source": [
        "log_reg.score(X_train, y_train)"
      ],
      "metadata": {
        "colab": {
          "base_uri": "https://localhost:8080/"
        },
        "id": "lPl-7HwVTAV5",
        "outputId": "2acffa94-edfc-4b13-eeff-cece6f40a155"
      },
      "execution_count": null,
      "outputs": [
        {
          "output_type": "execute_result",
          "data": {
            "text/plain": [
              "0.9907177549919051"
            ]
          },
          "metadata": {},
          "execution_count": 20
        }
      ]
    },
    {
      "cell_type": "code",
      "source": [
        "log_reg.score(X_test, y_test)"
      ],
      "metadata": {
        "colab": {
          "base_uri": "https://localhost:8080/"
        },
        "id": "hnMeCVedTDWm",
        "outputId": "36770a6e-d464-41d5-f45d-93e1946ddc61"
      },
      "execution_count": null,
      "outputs": [
        {
          "output_type": "execute_result",
          "data": {
            "text/plain": [
              "0.9876982842343801"
            ]
          },
          "metadata": {},
          "execution_count": 21
        }
      ]
    },
    {
      "cell_type": "code",
      "source": [
        "log_reg.score(X_val, y_val)"
      ],
      "metadata": {
        "colab": {
          "base_uri": "https://localhost:8080/"
        },
        "id": "kvfi9s79oGUC",
        "outputId": "86d23942-0708-4424-e48a-74279b397303"
      },
      "execution_count": null,
      "outputs": [
        {
          "output_type": "execute_result",
          "data": {
            "text/plain": [
              "0.9909355778569117"
            ]
          },
          "metadata": {},
          "execution_count": 22
        }
      ]
    },
    {
      "cell_type": "code",
      "source": [
        ""
      ],
      "metadata": {
        "id": "M8N1KsQNTYE4"
      },
      "execution_count": null,
      "outputs": []
    },
    {
      "cell_type": "code",
      "source": [
        "from keras.models import Sequential\n",
        "from keras.layers import Dense\n",
        "from sklearn.preprocessing import OneHotEncoder"
      ],
      "metadata": {
        "id": "ecouzPLeTmtl"
      },
      "execution_count": null,
      "outputs": []
    },
    {
      "cell_type": "code",
      "source": [
        "y_train = OneHotEncoder().fit_transform(y_train.reshape(-1, 1)).toarray()\n",
        "y_val = OneHotEncoder().fit_transform(y_val.reshape(-1, 1)).toarray()\n",
        "y_test = OneHotEncoder().fit_transform(y_test.reshape(-1, 1)).toarray()"
      ],
      "metadata": {
        "id": "7TQvyHWmT5m1"
      },
      "execution_count": null,
      "outputs": []
    },
    {
      "cell_type": "code",
      "source": [
        "model = Sequential()\n",
        "model.add(Dense(56, activation='relu'))\n",
        "model.add(Dense(3, activation='softmax'))"
      ],
      "metadata": {
        "id": "LMYgsetlTnRJ"
      },
      "execution_count": null,
      "outputs": []
    },
    {
      "cell_type": "code",
      "source": [
        "model.compile(optimizer='adam', loss='mse', metrics=['accuracy'])"
      ],
      "metadata": {
        "id": "iuYRetgSTqoB"
      },
      "execution_count": null,
      "outputs": []
    },
    {
      "cell_type": "code",
      "source": [
        "history = model.fit(X_train, y_train, epochs=10, validation_data=(X_val, y_val))"
      ],
      "metadata": {
        "colab": {
          "base_uri": "https://localhost:8080/"
        },
        "id": "woOPuunQTs8L",
        "outputId": "c909e49a-f49d-491a-b923-3a880da9fc55"
      },
      "execution_count": null,
      "outputs": [
        {
          "output_type": "stream",
          "name": "stdout",
          "text": [
            "Epoch 1/10\n",
            "290/290 [==============================] - 2s 3ms/step - loss: 0.1620 - accuracy: 0.8437 - val_loss: 0.0869 - val_accuracy: 0.9880\n",
            "Epoch 2/10\n",
            "290/290 [==============================] - 1s 2ms/step - loss: 0.0456 - accuracy: 0.9875 - val_loss: 0.0213 - val_accuracy: 0.9922\n",
            "Epoch 3/10\n",
            "290/290 [==============================] - 1s 2ms/step - loss: 0.0147 - accuracy: 0.9919 - val_loss: 0.0097 - val_accuracy: 0.9922\n",
            "Epoch 4/10\n",
            "290/290 [==============================] - 1s 2ms/step - loss: 0.0081 - accuracy: 0.9934 - val_loss: 0.0063 - val_accuracy: 0.9935\n",
            "Epoch 5/10\n",
            "290/290 [==============================] - 1s 2ms/step - loss: 0.0057 - accuracy: 0.9941 - val_loss: 0.0049 - val_accuracy: 0.9942\n",
            "Epoch 6/10\n",
            "290/290 [==============================] - 1s 3ms/step - loss: 0.0045 - accuracy: 0.9946 - val_loss: 0.0040 - val_accuracy: 0.9942\n",
            "Epoch 7/10\n",
            "290/290 [==============================] - 1s 2ms/step - loss: 0.0037 - accuracy: 0.9958 - val_loss: 0.0035 - val_accuracy: 0.9955\n",
            "Epoch 8/10\n",
            "290/290 [==============================] - 1s 2ms/step - loss: 0.0031 - accuracy: 0.9962 - val_loss: 0.0029 - val_accuracy: 0.9955\n",
            "Epoch 9/10\n",
            "290/290 [==============================] - 1s 2ms/step - loss: 0.0026 - accuracy: 0.9968 - val_loss: 0.0026 - val_accuracy: 0.9964\n",
            "Epoch 10/10\n",
            "290/290 [==============================] - 1s 2ms/step - loss: 0.0022 - accuracy: 0.9973 - val_loss: 0.0021 - val_accuracy: 0.9974\n"
          ]
        }
      ]
    },
    {
      "cell_type": "code",
      "source": [
        "import matplotlib.pyplot as plt"
      ],
      "metadata": {
        "id": "dKXMjbLLmhgv"
      },
      "execution_count": null,
      "outputs": []
    },
    {
      "cell_type": "code",
      "source": [
        "acc = history.history['accuracy']\n",
        "val_acc = history.history['val_accuracy']\n",
        "\n",
        "loss = history.history['loss']\n",
        "val_loss = history.history['val_loss']\n",
        "\n",
        "epochs_range = range(10)\n",
        "\n",
        "plt.figure(figsize=(8, 8))\n",
        "plt.subplot(1, 2, 1)\n",
        "plt.plot(epochs_range, acc, label='Training Accuracy')\n",
        "plt.plot(epochs_range, val_acc, label='Validation Accuracy')\n",
        "plt.legend(loc='lower right')\n",
        "plt.title('Training and Validation Accuracy')\n",
        "\n",
        "plt.subplot(1, 2, 2)\n",
        "plt.plot(epochs_range, loss, label='Training Loss')\n",
        "plt.plot(epochs_range, val_loss, label='Validation Loss')\n",
        "plt.legend(loc='upper right')\n",
        "plt.title('Training and Validation Loss')\n",
        "plt.show()"
      ],
      "metadata": {
        "colab": {
          "base_uri": "https://localhost:8080/",
          "height": 499
        },
        "id": "lIMIUDVWma5E",
        "outputId": "bb0edae0-91b6-4a87-d80a-c19db26ef739"
      },
      "execution_count": null,
      "outputs": [
        {
          "output_type": "display_data",
          "data": {
            "text/plain": [
              "<Figure size 576x576 with 2 Axes>"
            ],
            "image/png": "[encoded data removed]"
          },
          "metadata": {
            "needs_background": "light"
          }
        }
      ]
    },
    {
      "cell_type": "code",
      "source": [
        "model.predict(X_test)"
      ],
      "metadata": {
        "colab": {
          "base_uri": "https://localhost:8080/"
        },
        "id": "acsouWhhTu7t",
        "outputId": "e48bca58-6579-4e01-c0e3-ea195035f21e"
      },
      "execution_count": null,
      "outputs": [
        {
          "output_type": "execute_result",
          "data": {
            "text/plain": [
              "array([[1.1371345e-01, 1.0173998e-02, 8.7611258e-01],\n",
              "       [7.9625823e-02, 8.6774427e-01, 5.2629881e-02],\n",
              "       [9.9174255e-01, 8.2256884e-04, 7.4348068e-03],\n",
              "       ...,\n",
              "       [2.8484673e-03, 9.7988701e-01, 1.7264573e-02],\n",
              "       [3.7911122e-03, 9.7814786e-01, 1.8060928e-02],\n",
              "       [3.3554956e-02, 4.3702144e-02, 9.2274290e-01]], dtype=float32)"
            ]
          },
          "metadata": {},
          "execution_count": 30
        }
      ]
    },
    {
      "cell_type": "code",
      "source": [
        "y_test"
      ],
      "metadata": {
        "colab": {
          "base_uri": "https://localhost:8080/"
        },
        "id": "vVLlNuH7UiBe",
        "outputId": "deeb9535-f365-4fe1-a902-aacd6fccc629"
      },
      "execution_count": null,
      "outputs": [
        {
          "output_type": "execute_result",
          "data": {
            "text/plain": [
              "array([[0., 0., 1.],\n",
              "       [0., 1., 0.],\n",
              "       [1., 0., 0.],\n",
              "       ...,\n",
              "       [0., 1., 0.],\n",
              "       [0., 1., 0.],\n",
              "       [0., 0., 1.]])"
            ]
          },
          "metadata": {},
          "execution_count": 31
        }
      ]
    },
    {
      "cell_type": "code",
      "source": [
        "# X_test[0]"
      ],
      "metadata": {
        "id": "uAyX4LdoUlWg"
      },
      "execution_count": null,
      "outputs": []
    },
    {
      "cell_type": "code",
      "source": [
        "vishal_hand = [\n",
        "    -0.09475795179605484,\n",
        "    0.022432396188378334,\n",
        "    0.00475311279296875,\n",
        "    -0.07399104535579681,\n",
        "    -0.008666153997182846,\n",
        "    0.012908935546875,\n",
        "    -0.04402587562799454,\n",
        "    -0.017431285232305527,\n",
        "    0.03485107421875,\n",
        "    -0.01129741221666336,\n",
        "    -0.012424034997820854,\n",
        "    0.051025390625,\n",
        "    0.006018251646310091,\n",
        "    0.003687663935124874,\n",
        "    0.06024169921875,\n",
        "    -0.004922431893646717,\n",
        "    -0.030263159424066544,\n",
        "    0.003513336181640625,\n",
        "    0.021685369312763214,\n",
        "    -0.041729897260665894,\n",
        "    0.00909423828125,\n",
        "    0.043104540556669235,\n",
        "    -0.05095002427697182,\n",
        "    0.01568603515625,\n",
        "    0.0586371123790741,\n",
        "    -0.06333539634943008,\n",
        "    0.0202789306640625,\n",
        "    0.0033345576375722885,\n",
        "    -0.0059380726888775826,\n",
        "    -0.0014019012451171875,\n",
        "    0.04319426417350769,\n",
        "    -0.007213061675429344,\n",
        "    0.009185791015625,\n",
        "    0.06182999163866043,\n",
        "    -0.017033040523529053,\n",
        "    0.01131439208984375,\n",
        "    0.08427337557077408,\n",
        "    -0.02176763117313385,\n",
        "    0.0273895263671875,\n",
        "    0.0034635858610272408,\n",
        "    0.019300417974591255,\n",
        "    -0.0030345916748046875,\n",
        "    0.02909735217690468,\n",
        "    0.017083391547203064,\n",
        "    0.018402099609375,\n",
        "    0.021409112960100174,\n",
        "    0.011601369827985764,\n",
        "    0.036468505859375,\n",
        "    0.007255165837705135,\n",
        "    0.010476035997271538,\n",
        "    0.052734375,\n",
        "    -0.007543925195932388,\n",
        "    0.039486296474933624,\n",
        "    0.004375457763671875,\n",
        "    0.0039005009457468987,\n",
        "    0.034945763647556305,\n",
        "    0.0218353271484375,\n",
        "    -0.0025275619700551033,\n",
        "    0.028491759672760963,\n",
        "    0.042266845703125,\n",
        "    -0.01199113205075264,\n",
        "    0.028803527355194092,\n",
        "    0.044891357421875\n",
        "]"
      ],
      "metadata": {
        "id": "HZtaENxDUwa8"
      },
      "execution_count": null,
      "outputs": []
    },
    {
      "cell_type": "code",
      "source": [
        "vishal_hand = np.array([vishal_hand])"
      ],
      "metadata": {
        "id": "iBZBVUuYVvny"
      },
      "execution_count": null,
      "outputs": []
    },
    {
      "cell_type": "code",
      "source": [
        "# vishal_hand = StandardScaler().fit_transform(vishal_hand)"
      ],
      "metadata": {
        "id": "FAAXqTEVXR1Z"
      },
      "execution_count": null,
      "outputs": []
    },
    {
      "cell_type": "code",
      "source": [
        "# vishal_hand"
      ],
      "metadata": {
        "id": "WFG-2NqsXsQq"
      },
      "execution_count": null,
      "outputs": []
    },
    {
      "cell_type": "code",
      "source": [
        "model.predict(vishal_hand)"
      ],
      "metadata": {
        "colab": {
          "base_uri": "https://localhost:8080/"
        },
        "id": "eY_uWSlnVzlC",
        "outputId": "3404bc90-fa8f-4ba8-942e-811d12a66bba"
      },
      "execution_count": null,
      "outputs": [
        {
          "output_type": "execute_result",
          "data": {
            "text/plain": [
              "array([[0.0075072 , 0.00210957, 0.9903832 ]], dtype=float32)"
            ]
          },
          "metadata": {},
          "execution_count": 39
        }
      ]
    },
    {
      "cell_type": "code",
      "source": [
        "# X_train"
      ],
      "metadata": {
        "id": "dwVRIyoiV505"
      },
      "execution_count": null,
      "outputs": []
    },
    {
      "cell_type": "code",
      "source": [
        "# log_reg.predict([X_test[0]])"
      ],
      "metadata": {
        "id": "jgIpG7s3XzKK"
      },
      "execution_count": null,
      "outputs": []
    },
    {
      "cell_type": "code",
      "source": [
        "# y_test[0]"
      ],
      "metadata": {
        "id": "zFBT8giIo5_E"
      },
      "execution_count": null,
      "outputs": []
    },
    {
      "cell_type": "code",
      "source": [
        ""
      ],
      "metadata": {
        "id": "WCcw46U6CIrD"
      },
      "execution_count": null,
      "outputs": []
    },
    {
      "cell_type": "code",
      "source": [
        "model.save('rock-paper-scissors.h5')"
      ],
      "metadata": {
        "id": "gNf1MnjSC6nl"
      },
      "execution_count": null,
      "outputs": []
    },
    {
      "cell_type": "code",
      "source": [
        "!sudo pip install tensorflowjs"
      ],
      "metadata": {
        "colab": {
          "base_uri": "https://localhost:8080/"
        },
        "id": "eZp5ly0VcT1q",
        "outputId": "3fd862b4-5112-47bd-8e89-219755e7be4c"
      },
      "execution_count": null,
      "outputs": [
        {
          "output_type": "stream",
          "name": "stdout",
          "text": [
            "Looking in indexes: https://pypi.org/simple, https://us-python.pkg.dev/colab-wheels/public/simple/\n",
            "Collecting tensorflowjs\n",
            "  Downloading tensorflowjs-3.18.0-py3-none-any.whl (77 kB)\n",
            "\u001b[K     |████████████████████████████████| 77 kB 5.0 MB/s \n",
            "\u001b[?25hRequirement already satisfied: tensorflow-hub<0.13,>=0.7.0 in /usr/local/lib/python3.7/dist-packages (from tensorflowjs) (0.12.0)\n",
            "Requirement already satisfied: tensorflow<3,>=2.1.0 in /usr/local/lib/python3.7/dist-packages (from tensorflowjs) (2.8.2+zzzcolab20220527125636)\n",
            "Requirement already satisfied: six<2,>=1.12.0 in /usr/local/lib/python3.7/dist-packages (from tensorflowjs) (1.15.0)\n",
            "Collecting packaging~=20.9\n",
            "  Downloading packaging-20.9-py2.py3-none-any.whl (40 kB)\n",
            "\u001b[K     |████████████████████████████████| 40 kB 5.8 MB/s \n",
            "\u001b[?25hRequirement already satisfied: pyparsing>=2.0.2 in /usr/local/lib/python3.7/dist-packages (from packaging~=20.9->tensorflowjs) (3.0.9)\n",
            "Requirement already satisfied: gast>=0.2.1 in /usr/local/lib/python3.7/dist-packages (from tensorflow<3,>=2.1.0->tensorflowjs) (0.5.3)\n",
            "Requirement already satisfied: astunparse>=1.6.0 in /usr/local/lib/python3.7/dist-packages (from tensorflow<3,>=2.1.0->tensorflowjs) (1.6.3)\n",
            "Requirement already satisfied: h5py>=2.9.0 in /usr/local/lib/python3.7/dist-packages (from tensorflow<3,>=2.1.0->tensorflowjs) (3.1.0)\n",
            "Requirement already satisfied: protobuf<3.20,>=3.9.2 in /usr/local/lib/python3.7/dist-packages (from tensorflow<3,>=2.1.0->tensorflowjs) (3.17.3)\n",
            "Requirement already satisfied: typing-extensions>=3.6.6 in /usr/local/lib/python3.7/dist-packages (from tensorflow<3,>=2.1.0->tensorflowjs) (4.1.1)\n",
            "Requirement already satisfied: tensorflow-estimator<2.9,>=2.8 in /usr/local/lib/python3.7/dist-packages (from tensorflow<3,>=2.1.0->tensorflowjs) (2.8.0)\n",
            "Requirement already satisfied: absl-py>=0.4.0 in /usr/local/lib/python3.7/dist-packages (from tensorflow<3,>=2.1.0->tensorflowjs) (1.1.0)\n",
            "Requirement already satisfied: wrapt>=1.11.0 in /usr/local/lib/python3.7/dist-packages (from tensorflow<3,>=2.1.0->tensorflowjs) (1.14.1)\n",
            "Requirement already satisfied: opt-einsum>=2.3.2 in /usr/local/lib/python3.7/dist-packages (from tensorflow<3,>=2.1.0->tensorflowjs) (3.3.0)\n",
            "Requirement already satisfied: libclang>=9.0.1 in /usr/local/lib/python3.7/dist-packages (from tensorflow<3,>=2.1.0->tensorflowjs) (14.0.1)\n",
            "Requirement already satisfied: grpcio<2.0,>=1.24.3 in /usr/local/lib/python3.7/dist-packages (from tensorflow<3,>=2.1.0->tensorflowjs) (1.46.3)\n",
            "Requirement already satisfied: keras<2.9,>=2.8.0rc0 in /usr/local/lib/python3.7/dist-packages (from tensorflow<3,>=2.1.0->tensorflowjs) (2.8.0)\n",
            "Requirement already satisfied: flatbuffers>=1.12 in /usr/local/lib/python3.7/dist-packages (from tensorflow<3,>=2.1.0->tensorflowjs) (2.0)\n",
            "Requirement already satisfied: termcolor>=1.1.0 in /usr/local/lib/python3.7/dist-packages (from tensorflow<3,>=2.1.0->tensorflowjs) (1.1.0)\n",
            "Requirement already satisfied: setuptools in /usr/local/lib/python3.7/dist-packages (from tensorflow<3,>=2.1.0->tensorflowjs) (57.4.0)\n",
            "Requirement already satisfied: google-pasta>=0.1.1 in /usr/local/lib/python3.7/dist-packages (from tensorflow<3,>=2.1.0->tensorflowjs) (0.2.0)\n",
            "Requirement already satisfied: numpy>=1.20 in /usr/local/lib/python3.7/dist-packages (from tensorflow<3,>=2.1.0->tensorflowjs) (1.21.6)\n",
            "Requirement already satisfied: tensorboard<2.9,>=2.8 in /usr/local/lib/python3.7/dist-packages (from tensorflow<3,>=2.1.0->tensorflowjs) (2.8.0)\n",
            "Requirement already satisfied: keras-preprocessing>=1.1.1 in /usr/local/lib/python3.7/dist-packages (from tensorflow<3,>=2.1.0->tensorflowjs) (1.1.2)\n",
            "Requirement already satisfied: tensorflow-io-gcs-filesystem>=0.23.1 in /usr/local/lib/python3.7/dist-packages (from tensorflow<3,>=2.1.0->tensorflowjs) (0.26.0)\n",
            "Requirement already satisfied: wheel<1.0,>=0.23.0 in /usr/local/lib/python3.7/dist-packages (from astunparse>=1.6.0->tensorflow<3,>=2.1.0->tensorflowjs) (0.37.1)\n",
            "Requirement already satisfied: cached-property in /usr/local/lib/python3.7/dist-packages (from h5py>=2.9.0->tensorflow<3,>=2.1.0->tensorflowjs) (1.5.2)\n",
            "Requirement already satisfied: tensorboard-plugin-wit>=1.6.0 in /usr/local/lib/python3.7/dist-packages (from tensorboard<2.9,>=2.8->tensorflow<3,>=2.1.0->tensorflowjs) (1.8.1)\n",
            "Requirement already satisfied: google-auth<3,>=1.6.3 in /usr/local/lib/python3.7/dist-packages (from tensorboard<2.9,>=2.8->tensorflow<3,>=2.1.0->tensorflowjs) (1.35.0)\n",
            "Requirement already satisfied: requests<3,>=2.21.0 in /usr/local/lib/python3.7/dist-packages (from tensorboard<2.9,>=2.8->tensorflow<3,>=2.1.0->tensorflowjs) (2.23.0)\n",
            "Requirement already satisfied: werkzeug>=0.11.15 in /usr/local/lib/python3.7/dist-packages (from tensorboard<2.9,>=2.8->tensorflow<3,>=2.1.0->tensorflowjs) (1.0.1)\n",
            "Requirement already satisfied: markdown>=2.6.8 in /usr/local/lib/python3.7/dist-packages (from tensorboard<2.9,>=2.8->tensorflow<3,>=2.1.0->tensorflowjs) (3.3.7)\n",
            "Requirement already satisfied: google-auth-oauthlib<0.5,>=0.4.1 in /usr/local/lib/python3.7/dist-packages (from tensorboard<2.9,>=2.8->tensorflow<3,>=2.1.0->tensorflowjs) (0.4.6)\n",
            "Requirement already satisfied: tensorboard-data-server<0.7.0,>=0.6.0 in /usr/local/lib/python3.7/dist-packages (from tensorboard<2.9,>=2.8->tensorflow<3,>=2.1.0->tensorflowjs) (0.6.1)\n",
            "Requirement already satisfied: cachetools<5.0,>=2.0.0 in /usr/local/lib/python3.7/dist-packages (from google-auth<3,>=1.6.3->tensorboard<2.9,>=2.8->tensorflow<3,>=2.1.0->tensorflowjs) (4.2.4)\n",
            "Requirement already satisfied: pyasn1-modules>=0.2.1 in /usr/local/lib/python3.7/dist-packages (from google-auth<3,>=1.6.3->tensorboard<2.9,>=2.8->tensorflow<3,>=2.1.0->tensorflowjs) (0.2.8)\n",
            "Requirement already satisfied: rsa<5,>=3.1.4 in /usr/local/lib/python3.7/dist-packages (from google-auth<3,>=1.6.3->tensorboard<2.9,>=2.8->tensorflow<3,>=2.1.0->tensorflowjs) (4.8)\n",
            "Requirement already satisfied: requests-oauthlib>=0.7.0 in /usr/local/lib/python3.7/dist-packages (from google-auth-oauthlib<0.5,>=0.4.1->tensorboard<2.9,>=2.8->tensorflow<3,>=2.1.0->tensorflowjs) (1.3.1)\n",
            "Requirement already satisfied: importlib-metadata>=4.4 in /usr/local/lib/python3.7/dist-packages (from markdown>=2.6.8->tensorboard<2.9,>=2.8->tensorflow<3,>=2.1.0->tensorflowjs) (4.11.4)\n",
            "Requirement already satisfied: zipp>=0.5 in /usr/local/lib/python3.7/dist-packages (from importlib-metadata>=4.4->markdown>=2.6.8->tensorboard<2.9,>=2.8->tensorflow<3,>=2.1.0->tensorflowjs) (3.8.0)\n",
            "Requirement already satisfied: pyasn1<0.5.0,>=0.4.6 in /usr/local/lib/python3.7/dist-packages (from pyasn1-modules>=0.2.1->google-auth<3,>=1.6.3->tensorboard<2.9,>=2.8->tensorflow<3,>=2.1.0->tensorflowjs) (0.4.8)\n",
            "Requirement already satisfied: idna<3,>=2.5 in /usr/local/lib/python3.7/dist-packages (from requests<3,>=2.21.0->tensorboard<2.9,>=2.8->tensorflow<3,>=2.1.0->tensorflowjs) (2.10)\n",
            "Requirement already satisfied: certifi>=2017.4.17 in /usr/local/lib/python3.7/dist-packages (from requests<3,>=2.21.0->tensorboard<2.9,>=2.8->tensorflow<3,>=2.1.0->tensorflowjs) (2022.6.15)\n",
            "Requirement already satisfied: chardet<4,>=3.0.2 in /usr/local/lib/python3.7/dist-packages (from requests<3,>=2.21.0->tensorboard<2.9,>=2.8->tensorflow<3,>=2.1.0->tensorflowjs) (3.0.4)\n",
            "Requirement already satisfied: urllib3!=1.25.0,!=1.25.1,<1.26,>=1.21.1 in /usr/local/lib/python3.7/dist-packages (from requests<3,>=2.21.0->tensorboard<2.9,>=2.8->tensorflow<3,>=2.1.0->tensorflowjs) (1.24.3)\n",
            "Requirement already satisfied: oauthlib>=3.0.0 in /usr/local/lib/python3.7/dist-packages (from requests-oauthlib>=0.7.0->google-auth-oauthlib<0.5,>=0.4.1->tensorboard<2.9,>=2.8->tensorflow<3,>=2.1.0->tensorflowjs) (3.2.0)\n",
            "Installing collected packages: packaging, tensorflowjs\n",
            "  Attempting uninstall: packaging\n",
            "    Found existing installation: packaging 21.3\n",
            "    Uninstalling packaging-21.3:\n",
            "      Successfully uninstalled packaging-21.3\n",
            "\u001b[31mERROR: pip's dependency resolver does not currently take into account all the packages that are installed. This behaviour is the source of the following dependency conflicts.\n",
            "datascience 0.10.6 requires folium==0.2.1, but you have folium 0.8.3 which is incompatible.\u001b[0m\n",
            "Successfully installed packaging-20.9 tensorflowjs-3.18.0\n"
          ]
        }
      ]
    },
    {
      "cell_type": "code",
      "source": [
        "!tensorflowjs_converter --input_format=keras rock-paper-scissors.h5 rock-paper-scissors-model"
      ],
      "metadata": {
        "id": "aCly2Dp2bvVR"
      },
      "execution_count": null,
      "outputs": []
    },
    {
      "cell_type": "code",
      "source": [
        ""
      ],
      "metadata": {
        "id": "wtidNJIkb96q"
      },
      "execution_count": null,
      "outputs": []
    }
  ]
}